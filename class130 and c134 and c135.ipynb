{
 "cells": [
  {
   "cell_type": "code",
   "execution_count": 6,
   "metadata": {},
   "outputs": [
    {
     "data": {
      "text/html": [
       "<div>\n",
       "<style scoped>\n",
       "    .dataframe tbody tr th:only-of-type {\n",
       "        vertical-align: middle;\n",
       "    }\n",
       "\n",
       "    .dataframe tbody tr th {\n",
       "        vertical-align: top;\n",
       "    }\n",
       "\n",
       "    .dataframe thead th {\n",
       "        text-align: right;\n",
       "    }\n",
       "</style>\n",
       "<table border=\"1\" class=\"dataframe\">\n",
       "  <thead>\n",
       "    <tr style=\"text-align: right;\">\n",
       "      <th></th>\n",
       "      <th>Unnamed: 0</th>\n",
       "      <th>Star_name</th>\n",
       "      <th>Distance</th>\n",
       "      <th>Mass</th>\n",
       "      <th>Radius</th>\n",
       "    </tr>\n",
       "  </thead>\n",
       "  <tbody>\n",
       "    <tr>\n",
       "      <th>0</th>\n",
       "      <td>0</td>\n",
       "      <td>Sun</td>\n",
       "      <td>0.000015813</td>\n",
       "      <td>1.000000</td>\n",
       "      <td>1</td>\n",
       "    </tr>\n",
       "    <tr>\n",
       "      <th>1</th>\n",
       "      <td>1</td>\n",
       "      <td>Sirius</td>\n",
       "      <td>8.6</td>\n",
       "      <td>2.100000</td>\n",
       "      <td>1.71</td>\n",
       "    </tr>\n",
       "    <tr>\n",
       "      <th>2</th>\n",
       "      <td>2</td>\n",
       "      <td>Canopus</td>\n",
       "      <td>310</td>\n",
       "      <td>15.000000</td>\n",
       "      <td>71</td>\n",
       "    </tr>\n",
       "    <tr>\n",
       "      <th>3</th>\n",
       "      <td>3</td>\n",
       "      <td>Alpha Centauri</td>\n",
       "      <td>4.4</td>\n",
       "      <td>1.100000</td>\n",
       "      <td>1.2</td>\n",
       "    </tr>\n",
       "    <tr>\n",
       "      <th>4</th>\n",
       "      <td>4</td>\n",
       "      <td>Arcturus</td>\n",
       "      <td>37</td>\n",
       "      <td>1.100000</td>\n",
       "      <td>26</td>\n",
       "    </tr>\n",
       "    <tr>\n",
       "      <th>...</th>\n",
       "      <td>...</td>\n",
       "      <td>...</td>\n",
       "      <td>...</td>\n",
       "      <td>...</td>\n",
       "      <td>...</td>\n",
       "    </tr>\n",
       "    <tr>\n",
       "      <th>248</th>\n",
       "      <td>248</td>\n",
       "      <td>2MASSI J2356547-155310</td>\n",
       "      <td>74</td>\n",
       "      <td>0.076367</td>\n",
       "      <td>0.11201167</td>\n",
       "    </tr>\n",
       "    <tr>\n",
       "      <th>249</th>\n",
       "      <td>249</td>\n",
       "      <td>WISE 0410+1502</td>\n",
       "      <td>20</td>\n",
       "      <td>0.005728</td>\n",
       "      <td>0.12023271</td>\n",
       "    </tr>\n",
       "    <tr>\n",
       "      <th>250</th>\n",
       "      <td>250</td>\n",
       "      <td>WISE 0458+6434A</td>\n",
       "      <td>35.9</td>\n",
       "      <td>0.014319</td>\n",
       "      <td>0.4316046</td>\n",
       "    </tr>\n",
       "    <tr>\n",
       "      <th>251</th>\n",
       "      <td>251</td>\n",
       "      <td>WISE 0458+6434B</td>\n",
       "      <td>35.9</td>\n",
       "      <td>0.009546</td>\n",
       "      <td>0.3904994</td>\n",
       "    </tr>\n",
       "    <tr>\n",
       "      <th>252</th>\n",
       "      <td>252</td>\n",
       "      <td>WISE 1405+5534</td>\n",
       "      <td>25.3</td>\n",
       "      <td>0.028638</td>\n",
       "      <td>0.08837618</td>\n",
       "    </tr>\n",
       "  </tbody>\n",
       "</table>\n",
       "<p>253 rows × 5 columns</p>\n",
       "</div>"
      ],
      "text/plain": [
       "     Unnamed: 0               Star_name     Distance       Mass      Radius\n",
       "0             0                     Sun  0.000015813   1.000000           1\n",
       "1             1                  Sirius          8.6   2.100000        1.71\n",
       "2             2                 Canopus          310  15.000000          71\n",
       "3             3          Alpha Centauri          4.4   1.100000         1.2\n",
       "4             4                Arcturus           37   1.100000          26\n",
       "..          ...                     ...          ...        ...         ...\n",
       "248         248  2MASSI J2356547-155310           74   0.076367  0.11201167\n",
       "249         249          WISE 0410+1502           20   0.005728  0.12023271\n",
       "250         250         WISE 0458+6434A         35.9   0.014319   0.4316046\n",
       "251         251         WISE 0458+6434B         35.9   0.009546   0.3904994\n",
       "252         252          WISE 1405+5534         25.3   0.028638  0.08837618\n",
       "\n",
       "[253 rows x 5 columns]"
      ]
     },
     "execution_count": 6,
     "metadata": {},
     "output_type": "execute_result"
    }
   ],
   "source": [
    "import pandas as pd\n",
    "import csv\n",
    "df = pd.read_csv('final_data.csv')\n",
    "df"
   ]
  },
  {
   "cell_type": "code",
   "execution_count": 7,
   "metadata": {},
   "outputs": [
    {
     "data": {
      "text/plain": [
       "Index(['Unnamed: 0', 'Star_name', 'Distance', 'Mass', 'Radius'], dtype='object')"
      ]
     },
     "execution_count": 7,
     "metadata": {},
     "output_type": "execute_result"
    }
   ],
   "source": [
    "df.columns"
   ]
  },
  {
   "cell_type": "code",
   "execution_count": 8,
   "metadata": {},
   "outputs": [],
   "source": [
    "df.drop(['Unnamed: 0'],axis=1,inplace=True)"
   ]
  },
  {
   "cell_type": "code",
   "execution_count": 9,
   "metadata": {},
   "outputs": [
    {
     "data": {
      "text/html": [
       "<div>\n",
       "<style scoped>\n",
       "    .dataframe tbody tr th:only-of-type {\n",
       "        vertical-align: middle;\n",
       "    }\n",
       "\n",
       "    .dataframe tbody tr th {\n",
       "        vertical-align: top;\n",
       "    }\n",
       "\n",
       "    .dataframe thead th {\n",
       "        text-align: right;\n",
       "    }\n",
       "</style>\n",
       "<table border=\"1\" class=\"dataframe\">\n",
       "  <thead>\n",
       "    <tr style=\"text-align: right;\">\n",
       "      <th></th>\n",
       "      <th>Star_name</th>\n",
       "      <th>Distance</th>\n",
       "      <th>Mass</th>\n",
       "      <th>Radius</th>\n",
       "    </tr>\n",
       "  </thead>\n",
       "  <tbody>\n",
       "    <tr>\n",
       "      <th>0</th>\n",
       "      <td>Sun</td>\n",
       "      <td>0.000015813</td>\n",
       "      <td>1.0</td>\n",
       "      <td>1</td>\n",
       "    </tr>\n",
       "    <tr>\n",
       "      <th>1</th>\n",
       "      <td>Sirius</td>\n",
       "      <td>8.6</td>\n",
       "      <td>2.1</td>\n",
       "      <td>1.71</td>\n",
       "    </tr>\n",
       "    <tr>\n",
       "      <th>2</th>\n",
       "      <td>Canopus</td>\n",
       "      <td>310</td>\n",
       "      <td>15.0</td>\n",
       "      <td>71</td>\n",
       "    </tr>\n",
       "    <tr>\n",
       "      <th>3</th>\n",
       "      <td>Alpha Centauri</td>\n",
       "      <td>4.4</td>\n",
       "      <td>1.1</td>\n",
       "      <td>1.2</td>\n",
       "    </tr>\n",
       "    <tr>\n",
       "      <th>4</th>\n",
       "      <td>Arcturus</td>\n",
       "      <td>37</td>\n",
       "      <td>1.1</td>\n",
       "      <td>26</td>\n",
       "    </tr>\n",
       "  </tbody>\n",
       "</table>\n",
       "</div>"
      ],
      "text/plain": [
       "        Star_name     Distance  Mass Radius\n",
       "0             Sun  0.000015813   1.0      1\n",
       "1          Sirius          8.6   2.1   1.71\n",
       "2         Canopus          310  15.0     71\n",
       "3  Alpha Centauri          4.4   1.1    1.2\n",
       "4        Arcturus           37   1.1     26"
      ]
     },
     "execution_count": 9,
     "metadata": {},
     "output_type": "execute_result"
    }
   ],
   "source": [
    "df.head()"
   ]
  },
  {
   "cell_type": "code",
   "execution_count": 10,
   "metadata": {},
   "outputs": [],
   "source": [
    "df['Radius']=df['Radius'].apply(lambda x: x.replace('$', '').replace(',', '')).astype('float')"
   ]
  },
  {
   "cell_type": "code",
   "execution_count": 11,
   "metadata": {},
   "outputs": [],
   "source": [
    "radius = df['Radius'].to_list()\n",
    "mass = df['Mass'].to_list()\n",
    "gravity =[]\n",
    "\n",
    "#converting solar mass and radius into km & kg\n",
    "def convert_to_si(radius,mass):\n",
    "    for i in range(0,len(radius)-1):\n",
    "        radius[i] = radius[i]*6.957e+8\n",
    "        mass[i] = mass[i]*1.989e+30\n",
    "        \n",
    "convert_to_si(radius,mass)"
   ]
  },
  {
   "cell_type": "code",
   "execution_count": 12,
   "metadata": {},
   "outputs": [
    {
     "data": {
      "text/html": [
       "<div>\n",
       "<style scoped>\n",
       "    .dataframe tbody tr th:only-of-type {\n",
       "        vertical-align: middle;\n",
       "    }\n",
       "\n",
       "    .dataframe tbody tr th {\n",
       "        vertical-align: top;\n",
       "    }\n",
       "\n",
       "    .dataframe thead th {\n",
       "        text-align: right;\n",
       "    }\n",
       "</style>\n",
       "<table border=\"1\" class=\"dataframe\">\n",
       "  <thead>\n",
       "    <tr style=\"text-align: right;\">\n",
       "      <th></th>\n",
       "      <th>Star_name</th>\n",
       "      <th>Distance</th>\n",
       "      <th>Mass</th>\n",
       "      <th>Radius</th>\n",
       "      <th>Gravity</th>\n",
       "    </tr>\n",
       "  </thead>\n",
       "  <tbody>\n",
       "    <tr>\n",
       "      <th>0</th>\n",
       "      <td>Sun</td>\n",
       "      <td>0.000015813</td>\n",
       "      <td>1.000000</td>\n",
       "      <td>1.000000</td>\n",
       "      <td>2.742692e+02</td>\n",
       "    </tr>\n",
       "    <tr>\n",
       "      <th>1</th>\n",
       "      <td>Sirius</td>\n",
       "      <td>8.6</td>\n",
       "      <td>2.100000</td>\n",
       "      <td>1.710000</td>\n",
       "      <td>1.969718e+02</td>\n",
       "    </tr>\n",
       "    <tr>\n",
       "      <th>2</th>\n",
       "      <td>Canopus</td>\n",
       "      <td>310</td>\n",
       "      <td>15.000000</td>\n",
       "      <td>71.000000</td>\n",
       "      <td>8.161153e-01</td>\n",
       "    </tr>\n",
       "    <tr>\n",
       "      <th>3</th>\n",
       "      <td>Alpha Centauri</td>\n",
       "      <td>4.4</td>\n",
       "      <td>1.100000</td>\n",
       "      <td>1.200000</td>\n",
       "      <td>2.095112e+02</td>\n",
       "    </tr>\n",
       "    <tr>\n",
       "      <th>4</th>\n",
       "      <td>Arcturus</td>\n",
       "      <td>37</td>\n",
       "      <td>1.100000</td>\n",
       "      <td>26.000000</td>\n",
       "      <td>4.462960e-01</td>\n",
       "    </tr>\n",
       "    <tr>\n",
       "      <th>...</th>\n",
       "      <td>...</td>\n",
       "      <td>...</td>\n",
       "      <td>...</td>\n",
       "      <td>...</td>\n",
       "      <td>...</td>\n",
       "    </tr>\n",
       "    <tr>\n",
       "      <th>248</th>\n",
       "      <td>2MASSI J2356547-155310</td>\n",
       "      <td>74</td>\n",
       "      <td>0.076367</td>\n",
       "      <td>0.112012</td>\n",
       "      <td>1.669385e+03</td>\n",
       "    </tr>\n",
       "    <tr>\n",
       "      <th>249</th>\n",
       "      <td>WISE 0410+1502</td>\n",
       "      <td>20</td>\n",
       "      <td>0.005728</td>\n",
       "      <td>0.120233</td>\n",
       "      <td>1.086673e+02</td>\n",
       "    </tr>\n",
       "    <tr>\n",
       "      <th>250</th>\n",
       "      <td>WISE 0458+6434A</td>\n",
       "      <td>35.9</td>\n",
       "      <td>0.014319</td>\n",
       "      <td>0.431605</td>\n",
       "      <td>2.108201e+01</td>\n",
       "    </tr>\n",
       "    <tr>\n",
       "      <th>251</th>\n",
       "      <td>WISE 0458+6434B</td>\n",
       "      <td>35.9</td>\n",
       "      <td>0.009546</td>\n",
       "      <td>0.390499</td>\n",
       "      <td>1.716928e+01</td>\n",
       "    </tr>\n",
       "    <tr>\n",
       "      <th>252</th>\n",
       "      <td>WISE 1405+5534</td>\n",
       "      <td>25.3</td>\n",
       "      <td>0.028638</td>\n",
       "      <td>0.088376</td>\n",
       "      <td>2.447107e-10</td>\n",
       "    </tr>\n",
       "  </tbody>\n",
       "</table>\n",
       "<p>253 rows × 5 columns</p>\n",
       "</div>"
      ],
      "text/plain": [
       "                  Star_name     Distance       Mass     Radius       Gravity\n",
       "0                       Sun  0.000015813   1.000000   1.000000  2.742692e+02\n",
       "1                    Sirius          8.6   2.100000   1.710000  1.969718e+02\n",
       "2                   Canopus          310  15.000000  71.000000  8.161153e-01\n",
       "3            Alpha Centauri          4.4   1.100000   1.200000  2.095112e+02\n",
       "4                  Arcturus           37   1.100000  26.000000  4.462960e-01\n",
       "..                      ...          ...        ...        ...           ...\n",
       "248  2MASSI J2356547-155310           74   0.076367   0.112012  1.669385e+03\n",
       "249          WISE 0410+1502           20   0.005728   0.120233  1.086673e+02\n",
       "250         WISE 0458+6434A         35.9   0.014319   0.431605  2.108201e+01\n",
       "251         WISE 0458+6434B         35.9   0.009546   0.390499  1.716928e+01\n",
       "252          WISE 1405+5534         25.3   0.028638   0.088376  2.447107e-10\n",
       "\n",
       "[253 rows x 5 columns]"
      ]
     },
     "execution_count": 12,
     "metadata": {},
     "output_type": "execute_result"
    }
   ],
   "source": [
    "def gravity_calculation(radius,mass):\n",
    "    G = 6.674e-11\n",
    "    for index in range(0,len(mass)):\n",
    "        g= (mass[index]*G)/((radius[index])**2)\n",
    "        gravity.append(g)\n",
    "        \n",
    "gravity_calculation(radius,mass)\n",
    "\n",
    "df[\"Gravity\"] = gravity\n",
    "df"
   ]
  },
  {
   "cell_type": "code",
   "execution_count": 13,
   "metadata": {},
   "outputs": [],
   "source": [
    "#df['Distance']=df['Distance'].apply(lambda x: x.replace('$', '').replace(',', '')).astype('float')\n",
    "df.to_csv(\"star_with_gravity.csv\")"
   ]
  },
  {
   "cell_type": "code",
   "execution_count": 14,
   "metadata": {},
   "outputs": [
    {
     "data": {
      "text/plain": [
       "Star_name     object\n",
       "Distance      object\n",
       "Mass         float64\n",
       "Radius       float64\n",
       "Gravity      float64\n",
       "dtype: object"
      ]
     },
     "execution_count": 14,
     "metadata": {},
     "output_type": "execute_result"
    }
   ],
   "source": [
    "df.dtypes"
   ]
  },
  {
   "cell_type": "code",
   "execution_count": 15,
   "metadata": {},
   "outputs": [],
   "source": [
    "import pandas as pd\n",
    "import matplotlib.pyplot as plt\n",
    "%matplotlib inline"
   ]
  },
  {
   "cell_type": "code",
   "execution_count": 16,
   "metadata": {},
   "outputs": [],
   "source": [
    "df = pd.read_csv(\"star_with_gravity.csv\")"
   ]
  },
  {
   "cell_type": "code",
   "execution_count": 17,
   "metadata": {},
   "outputs": [
    {
     "data": {
      "text/html": [
       "<div>\n",
       "<style scoped>\n",
       "    .dataframe tbody tr th:only-of-type {\n",
       "        vertical-align: middle;\n",
       "    }\n",
       "\n",
       "    .dataframe tbody tr th {\n",
       "        vertical-align: top;\n",
       "    }\n",
       "\n",
       "    .dataframe thead th {\n",
       "        text-align: right;\n",
       "    }\n",
       "</style>\n",
       "<table border=\"1\" class=\"dataframe\">\n",
       "  <thead>\n",
       "    <tr style=\"text-align: right;\">\n",
       "      <th></th>\n",
       "      <th>Unnamed: 0</th>\n",
       "      <th>Star_name</th>\n",
       "      <th>Distance</th>\n",
       "      <th>Mass</th>\n",
       "      <th>Radius</th>\n",
       "      <th>Gravity</th>\n",
       "    </tr>\n",
       "  </thead>\n",
       "  <tbody>\n",
       "    <tr>\n",
       "      <th>0</th>\n",
       "      <td>0</td>\n",
       "      <td>Sun</td>\n",
       "      <td>0.000015813</td>\n",
       "      <td>1.0</td>\n",
       "      <td>1.00</td>\n",
       "      <td>274.269161</td>\n",
       "    </tr>\n",
       "    <tr>\n",
       "      <th>1</th>\n",
       "      <td>1</td>\n",
       "      <td>Sirius</td>\n",
       "      <td>8.6</td>\n",
       "      <td>2.1</td>\n",
       "      <td>1.71</td>\n",
       "      <td>196.971800</td>\n",
       "    </tr>\n",
       "    <tr>\n",
       "      <th>2</th>\n",
       "      <td>2</td>\n",
       "      <td>Canopus</td>\n",
       "      <td>310</td>\n",
       "      <td>15.0</td>\n",
       "      <td>71.00</td>\n",
       "      <td>0.816115</td>\n",
       "    </tr>\n",
       "    <tr>\n",
       "      <th>3</th>\n",
       "      <td>3</td>\n",
       "      <td>Alpha Centauri</td>\n",
       "      <td>4.4</td>\n",
       "      <td>1.1</td>\n",
       "      <td>1.20</td>\n",
       "      <td>209.511165</td>\n",
       "    </tr>\n",
       "    <tr>\n",
       "      <th>4</th>\n",
       "      <td>4</td>\n",
       "      <td>Arcturus</td>\n",
       "      <td>37</td>\n",
       "      <td>1.1</td>\n",
       "      <td>26.00</td>\n",
       "      <td>0.446296</td>\n",
       "    </tr>\n",
       "  </tbody>\n",
       "</table>\n",
       "</div>"
      ],
      "text/plain": [
       "   Unnamed: 0       Star_name     Distance  Mass  Radius     Gravity\n",
       "0           0             Sun  0.000015813   1.0    1.00  274.269161\n",
       "1           1          Sirius          8.6   2.1    1.71  196.971800\n",
       "2           2         Canopus          310  15.0   71.00    0.816115\n",
       "3           3  Alpha Centauri          4.4   1.1    1.20  209.511165\n",
       "4           4        Arcturus           37   1.1   26.00    0.446296"
      ]
     },
     "execution_count": 17,
     "metadata": {},
     "output_type": "execute_result"
    }
   ],
   "source": [
    "df.head()"
   ]
  },
  {
   "cell_type": "code",
   "execution_count": 18,
   "metadata": {},
   "outputs": [],
   "source": [
    "mass = df[\"Mass\"].to_list()\n",
    "radius = df[\"Radius\"].to_list()\n",
    "dist = df[\"Distance\"].to_list()\n",
    "gravity = df[\"Gravity\"].to_list()"
   ]
  },
  {
   "cell_type": "code",
   "execution_count": 19,
   "metadata": {},
   "outputs": [
    {
     "data": {
      "image/png": "[encoded data removed]",
      "text/plain": [
       "<Figure size 432x288 with 1 Axes>"
      ]
     },
     "metadata": {
      "needs_background": "light"
     },
     "output_type": "display_data"
    }
   ],
   "source": [
    "mass.sort()\n",
    "radius.sort()\n",
    "gravity.sort()\n",
    "plt.plot(radius,mass)\n",
    "#plt.plot(radius,gravity)\n",
    "\n",
    "plt.title(\"Radius & Mass of the Star\")\n",
    "plt.xlabel(\"Radius\")\n",
    "plt.ylabel(\"Mass\")\n",
    "plt.show()"
   ]
  },
  {
   "cell_type": "code",
   "execution_count": 20,
   "metadata": {},
   "outputs": [
    {
     "data": {
      "image/png": "[encoded data removed]",
      "text/plain": [
       "<Figure size 432x288 with 1 Axes>"
      ]
     },
     "metadata": {
      "needs_background": "light"
     },
     "output_type": "display_data"
    }
   ],
   "source": [
    "plt.plot(mass,gravity)\n",
    "\n",
    "plt.title(\"Mass vs Gravity\")\n",
    "plt.xlabel(\"Mass\")\n",
    "plt.ylabel(\"Gravity\")\n",
    "plt.show()"
   ]
  },
  {
   "cell_type": "code",
   "execution_count": 21,
   "metadata": {},
   "outputs": [
    {
     "data": {
      "image/png": "[encoded data removed]",
      "text/plain": [
       "<Figure size 432x288 with 1 Axes>"
      ]
     },
     "metadata": {
      "needs_background": "light"
     },
     "output_type": "display_data"
    }
   ],
   "source": [
    "plt.scatter(radius,mass)\n",
    "plt.xlabel(\"Radius\")\n",
    "plt.ylabel(\"Mass\")\n",
    "plt.show()"
   ]
  },
  {
   "cell_type": "code",
   "execution_count": 27,
   "metadata": {},
   "outputs": [],
   "source": [
    "import pandas as pd\n",
    "import matplotlib.pyplot as plt\n",
    "%matplotlib inline"
   ]
  },
  {
   "cell_type": "code",
   "execution_count": 28,
   "metadata": {},
   "outputs": [
    {
     "data": {
      "text/html": [
       "<div>\n",
       "<style scoped>\n",
       "    .dataframe tbody tr th:only-of-type {\n",
       "        vertical-align: middle;\n",
       "    }\n",
       "\n",
       "    .dataframe tbody tr th {\n",
       "        vertical-align: top;\n",
       "    }\n",
       "\n",
       "    .dataframe thead th {\n",
       "        text-align: right;\n",
       "    }\n",
       "</style>\n",
       "<table border=\"1\" class=\"dataframe\">\n",
       "  <thead>\n",
       "    <tr style=\"text-align: right;\">\n",
       "      <th></th>\n",
       "      <th>Unnamed: 0</th>\n",
       "      <th>Star_name</th>\n",
       "      <th>Distance</th>\n",
       "      <th>Mass</th>\n",
       "      <th>Radius</th>\n",
       "      <th>Gravity</th>\n",
       "    </tr>\n",
       "  </thead>\n",
       "  <tbody>\n",
       "    <tr>\n",
       "      <th>0</th>\n",
       "      <td>0</td>\n",
       "      <td>Sun</td>\n",
       "      <td>0.000016</td>\n",
       "      <td>1.0</td>\n",
       "      <td>1.00</td>\n",
       "      <td>274.269161</td>\n",
       "    </tr>\n",
       "    <tr>\n",
       "      <th>1</th>\n",
       "      <td>1</td>\n",
       "      <td>Sirius</td>\n",
       "      <td>8.600000</td>\n",
       "      <td>2.1</td>\n",
       "      <td>1.71</td>\n",
       "      <td>196.971800</td>\n",
       "    </tr>\n",
       "    <tr>\n",
       "      <th>2</th>\n",
       "      <td>2</td>\n",
       "      <td>Canopus</td>\n",
       "      <td>310.000000</td>\n",
       "      <td>15.0</td>\n",
       "      <td>71.00</td>\n",
       "      <td>0.816115</td>\n",
       "    </tr>\n",
       "    <tr>\n",
       "      <th>3</th>\n",
       "      <td>3</td>\n",
       "      <td>Alpha Centauri</td>\n",
       "      <td>4.400000</td>\n",
       "      <td>1.1</td>\n",
       "      <td>1.20</td>\n",
       "      <td>209.511165</td>\n",
       "    </tr>\n",
       "    <tr>\n",
       "      <th>4</th>\n",
       "      <td>4</td>\n",
       "      <td>Arcturus</td>\n",
       "      <td>37.000000</td>\n",
       "      <td>1.1</td>\n",
       "      <td>26.00</td>\n",
       "      <td>0.446296</td>\n",
       "    </tr>\n",
       "  </tbody>\n",
       "</table>\n",
       "</div>"
      ],
      "text/plain": [
       "   Unnamed: 0       Star_name    Distance  Mass  Radius     Gravity\n",
       "0           0             Sun    0.000016   1.0    1.00  274.269161\n",
       "1           1          Sirius    8.600000   2.1    1.71  196.971800\n",
       "2           2         Canopus  310.000000  15.0   71.00    0.816115\n",
       "3           3  Alpha Centauri    4.400000   1.1    1.20  209.511165\n",
       "4           4        Arcturus   37.000000   1.1   26.00    0.446296"
      ]
     },
     "execution_count": 28,
     "metadata": {},
     "output_type": "execute_result"
    }
   ],
   "source": [
    "df = pd.read_csv(\"star_with_gravity.csv\")\n",
    "\n",
    "df.head()\n"
   ]
  },
  {
   "cell_type": "code",
   "execution_count": 31,
   "metadata": {},
   "outputs": [],
   "source": [
    "bools =[]\n",
    "for d in df.Distance:\n",
    "    if float(d)<=100:\n",
    "        bools.append(True)\n",
    "    else:\n",
    "        bools.append(False)"
   ]
  },
  {
   "cell_type": "code",
   "execution_count": 32,
   "metadata": {},
   "outputs": [],
   "source": [
    "is_dist = pd.Series(bools)"
   ]
  },
  {
   "cell_type": "code",
   "execution_count": 33,
   "metadata": {},
   "outputs": [],
   "source": [
    "star_dist=df[is_dist]"
   ]
  },
  {
   "cell_type": "code",
   "execution_count": 34,
   "metadata": {},
   "outputs": [
    {
     "data": {
      "text/html": [
       "<div>\n",
       "<style scoped>\n",
       "    .dataframe tbody tr th:only-of-type {\n",
       "        vertical-align: middle;\n",
       "    }\n",
       "\n",
       "    .dataframe tbody tr th {\n",
       "        vertical-align: top;\n",
       "    }\n",
       "\n",
       "    .dataframe thead th {\n",
       "        text-align: right;\n",
       "    }\n",
       "</style>\n",
       "<table border=\"1\" class=\"dataframe\">\n",
       "  <thead>\n",
       "    <tr style=\"text-align: right;\">\n",
       "      <th></th>\n",
       "      <th>Unnamed: 0</th>\n",
       "      <th>Star_name</th>\n",
       "      <th>Distance</th>\n",
       "      <th>Mass</th>\n",
       "      <th>Radius</th>\n",
       "      <th>Gravity</th>\n",
       "    </tr>\n",
       "  </thead>\n",
       "  <tbody>\n",
       "    <tr>\n",
       "      <th>0</th>\n",
       "      <td>0</td>\n",
       "      <td>Sun</td>\n",
       "      <td>0.000016</td>\n",
       "      <td>1.0</td>\n",
       "      <td>1.00</td>\n",
       "      <td>274.269161</td>\n",
       "    </tr>\n",
       "    <tr>\n",
       "      <th>1</th>\n",
       "      <td>1</td>\n",
       "      <td>Sirius</td>\n",
       "      <td>8.600000</td>\n",
       "      <td>2.1</td>\n",
       "      <td>1.71</td>\n",
       "      <td>196.971800</td>\n",
       "    </tr>\n",
       "    <tr>\n",
       "      <th>2</th>\n",
       "      <td>3</td>\n",
       "      <td>Alpha Centauri</td>\n",
       "      <td>4.400000</td>\n",
       "      <td>1.1</td>\n",
       "      <td>1.20</td>\n",
       "      <td>209.511165</td>\n",
       "    </tr>\n",
       "    <tr>\n",
       "      <th>3</th>\n",
       "      <td>4</td>\n",
       "      <td>Arcturus</td>\n",
       "      <td>37.000000</td>\n",
       "      <td>1.1</td>\n",
       "      <td>26.00</td>\n",
       "      <td>0.446296</td>\n",
       "    </tr>\n",
       "    <tr>\n",
       "      <th>4</th>\n",
       "      <td>5</td>\n",
       "      <td>Vega</td>\n",
       "      <td>25.000000</td>\n",
       "      <td>2.2</td>\n",
       "      <td>2.70</td>\n",
       "      <td>82.769843</td>\n",
       "    </tr>\n",
       "  </tbody>\n",
       "</table>\n",
       "</div>"
      ],
      "text/plain": [
       "   Unnamed: 0       Star_name   Distance  Mass  Radius     Gravity\n",
       "0           0             Sun   0.000016   1.0    1.00  274.269161\n",
       "1           1          Sirius   8.600000   2.1    1.71  196.971800\n",
       "2           3  Alpha Centauri   4.400000   1.1    1.20  209.511165\n",
       "3           4        Arcturus  37.000000   1.1   26.00    0.446296\n",
       "4           5            Vega  25.000000   2.2    2.70   82.769843"
      ]
     },
     "execution_count": 34,
     "metadata": {},
     "output_type": "execute_result"
    }
   ],
   "source": [
    "star_dist.reset_index(inplace=True,drop=True)\n",
    "star_dist.head()"
   ]
  },
  {
   "cell_type": "code",
   "execution_count": 35,
   "metadata": {},
   "outputs": [
    {
     "data": {
      "text/plain": [
       "(159, 6)"
      ]
     },
     "execution_count": 35,
     "metadata": {},
     "output_type": "execute_result"
    }
   ],
   "source": [
    "star_dist.shape"
   ]
  },
  {
   "cell_type": "code",
   "execution_count": 36,
   "metadata": {},
   "outputs": [],
   "source": [
    "gravity_bool = []\n",
    "for g in star_dist.Gravity:\n",
    "    if g<=350 and g>=150:\n",
    "        gravity_bool.append(True)\n",
    "    else :\n",
    "        gravity_bool.append(False)"
   ]
  },
  {
   "cell_type": "code",
   "execution_count": 38,
   "metadata": {},
   "outputs": [],
   "source": [
    "is_gravity = pd.Series(gravity_bool)"
   ]
  },
  {
   "cell_type": "code",
   "execution_count": 39,
   "metadata": {},
   "outputs": [
    {
     "data": {
      "text/html": [
       "<div>\n",
       "<style scoped>\n",
       "    .dataframe tbody tr th:only-of-type {\n",
       "        vertical-align: middle;\n",
       "    }\n",
       "\n",
       "    .dataframe tbody tr th {\n",
       "        vertical-align: top;\n",
       "    }\n",
       "\n",
       "    .dataframe thead th {\n",
       "        text-align: right;\n",
       "    }\n",
       "</style>\n",
       "<table border=\"1\" class=\"dataframe\">\n",
       "  <thead>\n",
       "    <tr style=\"text-align: right;\">\n",
       "      <th></th>\n",
       "      <th>Unnamed: 0</th>\n",
       "      <th>Star_name</th>\n",
       "      <th>Distance</th>\n",
       "      <th>Mass</th>\n",
       "      <th>Radius</th>\n",
       "      <th>Gravity</th>\n",
       "    </tr>\n",
       "  </thead>\n",
       "  <tbody>\n",
       "    <tr>\n",
       "      <th>0</th>\n",
       "      <td>0</td>\n",
       "      <td>Sun</td>\n",
       "      <td>0.000016</td>\n",
       "      <td>1.0</td>\n",
       "      <td>1.00</td>\n",
       "      <td>274.269161</td>\n",
       "    </tr>\n",
       "    <tr>\n",
       "      <th>1</th>\n",
       "      <td>1</td>\n",
       "      <td>Sirius</td>\n",
       "      <td>8.600000</td>\n",
       "      <td>2.1</td>\n",
       "      <td>1.71</td>\n",
       "      <td>196.971800</td>\n",
       "    </tr>\n",
       "    <tr>\n",
       "      <th>2</th>\n",
       "      <td>3</td>\n",
       "      <td>Alpha Centauri</td>\n",
       "      <td>4.400000</td>\n",
       "      <td>1.1</td>\n",
       "      <td>1.20</td>\n",
       "      <td>209.511165</td>\n",
       "    </tr>\n",
       "    <tr>\n",
       "      <th>7</th>\n",
       "      <td>12</td>\n",
       "      <td>Altair</td>\n",
       "      <td>17.000000</td>\n",
       "      <td>1.8</td>\n",
       "      <td>1.80</td>\n",
       "      <td>152.371756</td>\n",
       "    </tr>\n",
       "    <tr>\n",
       "      <th>10</th>\n",
       "      <td>18</td>\n",
       "      <td>Fomalhaut</td>\n",
       "      <td>25.000000</td>\n",
       "      <td>1.9</td>\n",
       "      <td>1.80</td>\n",
       "      <td>160.836854</td>\n",
       "    </tr>\n",
       "  </tbody>\n",
       "</table>\n",
       "</div>"
      ],
      "text/plain": [
       "    Unnamed: 0       Star_name   Distance  Mass  Radius     Gravity\n",
       "0            0             Sun   0.000016   1.0    1.00  274.269161\n",
       "1            1          Sirius   8.600000   2.1    1.71  196.971800\n",
       "2            3  Alpha Centauri   4.400000   1.1    1.20  209.511165\n",
       "7           12          Altair  17.000000   1.8    1.80  152.371756\n",
       "10          18       Fomalhaut  25.000000   1.9    1.80  160.836854"
      ]
     },
     "execution_count": 39,
     "metadata": {},
     "output_type": "execute_result"
    }
   ],
   "source": [
    "final_stars = star_dist[is_gravity]\n",
    "final_stars.head()"
   ]
  },
  {
   "cell_type": "code",
   "execution_count": 40,
   "metadata": {},
   "outputs": [
    {
     "data": {
      "text/plain": [
       "(21, 6)"
      ]
     },
     "execution_count": 40,
     "metadata": {},
     "output_type": "execute_result"
    }
   ],
   "source": [
    "final_stars.shape"
   ]
  },
  {
   "cell_type": "code",
   "execution_count": 41,
   "metadata": {},
   "outputs": [],
   "source": [
    "final_stars.reset_index(inplace=True,drop=True)"
   ]
  },
  {
   "cell_type": "code",
   "execution_count": 42,
   "metadata": {},
   "outputs": [
    {
     "data": {
      "text/html": [
       "<div>\n",
       "<style scoped>\n",
       "    .dataframe tbody tr th:only-of-type {\n",
       "        vertical-align: middle;\n",
       "    }\n",
       "\n",
       "    .dataframe tbody tr th {\n",
       "        vertical-align: top;\n",
       "    }\n",
       "\n",
       "    .dataframe thead th {\n",
       "        text-align: right;\n",
       "    }\n",
       "</style>\n",
       "<table border=\"1\" class=\"dataframe\">\n",
       "  <thead>\n",
       "    <tr style=\"text-align: right;\">\n",
       "      <th></th>\n",
       "      <th>Unnamed: 0</th>\n",
       "      <th>Star_name</th>\n",
       "      <th>Distance</th>\n",
       "      <th>Mass</th>\n",
       "      <th>Radius</th>\n",
       "      <th>Gravity</th>\n",
       "    </tr>\n",
       "  </thead>\n",
       "  <tbody>\n",
       "    <tr>\n",
       "      <th>0</th>\n",
       "      <td>0</td>\n",
       "      <td>Sun</td>\n",
       "      <td>0.000016</td>\n",
       "      <td>1.0</td>\n",
       "      <td>1.00</td>\n",
       "      <td>274.269161</td>\n",
       "    </tr>\n",
       "    <tr>\n",
       "      <th>1</th>\n",
       "      <td>1</td>\n",
       "      <td>Sirius</td>\n",
       "      <td>8.600000</td>\n",
       "      <td>2.1</td>\n",
       "      <td>1.71</td>\n",
       "      <td>196.971800</td>\n",
       "    </tr>\n",
       "    <tr>\n",
       "      <th>2</th>\n",
       "      <td>3</td>\n",
       "      <td>Alpha Centauri</td>\n",
       "      <td>4.400000</td>\n",
       "      <td>1.1</td>\n",
       "      <td>1.20</td>\n",
       "      <td>209.511165</td>\n",
       "    </tr>\n",
       "    <tr>\n",
       "      <th>3</th>\n",
       "      <td>12</td>\n",
       "      <td>Altair</td>\n",
       "      <td>17.000000</td>\n",
       "      <td>1.8</td>\n",
       "      <td>1.80</td>\n",
       "      <td>152.371756</td>\n",
       "    </tr>\n",
       "    <tr>\n",
       "      <th>4</th>\n",
       "      <td>18</td>\n",
       "      <td>Fomalhaut</td>\n",
       "      <td>25.000000</td>\n",
       "      <td>1.9</td>\n",
       "      <td>1.80</td>\n",
       "      <td>160.836854</td>\n",
       "    </tr>\n",
       "  </tbody>\n",
       "</table>\n",
       "</div>"
      ],
      "text/plain": [
       "   Unnamed: 0       Star_name   Distance  Mass  Radius     Gravity\n",
       "0           0             Sun   0.000016   1.0    1.00  274.269161\n",
       "1           1          Sirius   8.600000   2.1    1.71  196.971800\n",
       "2           3  Alpha Centauri   4.400000   1.1    1.20  209.511165\n",
       "3          12          Altair  17.000000   1.8    1.80  152.371756\n",
       "4          18       Fomalhaut  25.000000   1.9    1.80  160.836854"
      ]
     },
     "execution_count": 42,
     "metadata": {},
     "output_type": "execute_result"
    }
   ],
   "source": [
    "final_stars.head()"
   ]
  },
  {
   "cell_type": "code",
   "execution_count": 43,
   "metadata": {},
   "outputs": [],
   "source": [
    "final_stars.to_csv(\"filtered_stars.csv\")"
   ]
  },
  {
   "cell_type": "code",
   "execution_count": 44,
   "metadata": {},
   "outputs": [],
   "source": [
    "import pandas as pd\n",
    "import matplotlib.pyplot as plt\n",
    "%matplotlib inline"
   ]
  },
  {
   "cell_type": "code",
   "execution_count": 45,
   "metadata": {},
   "outputs": [],
   "source": [
    "df = pd.read_csv(\"filtered_stars.csv\")"
   ]
  },
  {
   "cell_type": "code",
   "execution_count": 46,
   "metadata": {},
   "outputs": [
    {
     "data": {
      "text/html": [
       "<div>\n",
       "<style scoped>\n",
       "    .dataframe tbody tr th:only-of-type {\n",
       "        vertical-align: middle;\n",
       "    }\n",
       "\n",
       "    .dataframe tbody tr th {\n",
       "        vertical-align: top;\n",
       "    }\n",
       "\n",
       "    .dataframe thead th {\n",
       "        text-align: right;\n",
       "    }\n",
       "</style>\n",
       "<table border=\"1\" class=\"dataframe\">\n",
       "  <thead>\n",
       "    <tr style=\"text-align: right;\">\n",
       "      <th></th>\n",
       "      <th>Unnamed: 0</th>\n",
       "      <th>Unnamed: 0.1</th>\n",
       "      <th>Star_name</th>\n",
       "      <th>Distance</th>\n",
       "      <th>Mass</th>\n",
       "      <th>Radius</th>\n",
       "      <th>Gravity</th>\n",
       "    </tr>\n",
       "  </thead>\n",
       "  <tbody>\n",
       "    <tr>\n",
       "      <th>0</th>\n",
       "      <td>0</td>\n",
       "      <td>0</td>\n",
       "      <td>Sun</td>\n",
       "      <td>0.000016</td>\n",
       "      <td>1.0</td>\n",
       "      <td>1.00</td>\n",
       "      <td>274.269161</td>\n",
       "    </tr>\n",
       "    <tr>\n",
       "      <th>1</th>\n",
       "      <td>1</td>\n",
       "      <td>1</td>\n",
       "      <td>Sirius</td>\n",
       "      <td>8.600000</td>\n",
       "      <td>2.1</td>\n",
       "      <td>1.71</td>\n",
       "      <td>196.971800</td>\n",
       "    </tr>\n",
       "    <tr>\n",
       "      <th>2</th>\n",
       "      <td>2</td>\n",
       "      <td>3</td>\n",
       "      <td>Alpha Centauri</td>\n",
       "      <td>4.400000</td>\n",
       "      <td>1.1</td>\n",
       "      <td>1.20</td>\n",
       "      <td>209.511165</td>\n",
       "    </tr>\n",
       "    <tr>\n",
       "      <th>3</th>\n",
       "      <td>3</td>\n",
       "      <td>12</td>\n",
       "      <td>Altair</td>\n",
       "      <td>17.000000</td>\n",
       "      <td>1.8</td>\n",
       "      <td>1.80</td>\n",
       "      <td>152.371756</td>\n",
       "    </tr>\n",
       "    <tr>\n",
       "      <th>4</th>\n",
       "      <td>4</td>\n",
       "      <td>18</td>\n",
       "      <td>Fomalhaut</td>\n",
       "      <td>25.000000</td>\n",
       "      <td>1.9</td>\n",
       "      <td>1.80</td>\n",
       "      <td>160.836854</td>\n",
       "    </tr>\n",
       "  </tbody>\n",
       "</table>\n",
       "</div>"
      ],
      "text/plain": [
       "   Unnamed: 0  Unnamed: 0.1       Star_name   Distance  Mass  Radius  \\\n",
       "0           0             0             Sun   0.000016   1.0    1.00   \n",
       "1           1             1          Sirius   8.600000   2.1    1.71   \n",
       "2           2             3  Alpha Centauri   4.400000   1.1    1.20   \n",
       "3           3            12          Altair  17.000000   1.8    1.80   \n",
       "4           4            18       Fomalhaut  25.000000   1.9    1.80   \n",
       "\n",
       "      Gravity  \n",
       "0  274.269161  \n",
       "1  196.971800  \n",
       "2  209.511165  \n",
       "3  152.371756  \n",
       "4  160.836854  "
      ]
     },
     "execution_count": 46,
     "metadata": {},
     "output_type": "execute_result"
    }
   ],
   "source": [
    "df.head()"
   ]
  },
  {
   "cell_type": "code",
   "execution_count": 47,
   "metadata": {},
   "outputs": [
    {
     "data": {
      "text/plain": [
       "Index(['Unnamed: 0', 'Unnamed: 0.1', 'Star_name', 'Distance', 'Mass', 'Radius',\n",
       "       'Gravity'],\n",
       "      dtype='object')"
      ]
     },
     "execution_count": 47,
     "metadata": {},
     "output_type": "execute_result"
    }
   ],
   "source": [
    "df.columns"
   ]
  },
  {
   "cell_type": "code",
   "execution_count": 48,
   "metadata": {},
   "outputs": [],
   "source": [
    "df.drop(['Unnamed: 0', 'Unnamed: 0.1'],axis=1,inplace=True)"
   ]
  },
  {
   "cell_type": "code",
   "execution_count": 49,
   "metadata": {},
   "outputs": [],
   "source": [
    "name = df[\"Star_name\"].to_list()\n",
    "mass = df[\"Mass\"].to_list()\n",
    "radius = df[\"Radius\"].to_list()\n",
    "dist = df[\"Distance\"].to_list()\n",
    "gravity = df[\"Gravity\"].to_list()"
   ]
  },
  {
   "cell_type": "code",
   "execution_count": 50,
   "metadata": {},
   "outputs": [
    {
     "data": {
      "text/plain": [
       "<BarContainer object of 9 artists>"
      ]
     },
     "execution_count": 50,
     "metadata": {},
     "output_type": "execute_result"
    },
    {
     "data": {
      "image/png": "[encoded data removed]",
      "text/plain": [
       "<Figure size 720x360 with 1 Axes>"
      ]
     },
     "metadata": {
      "needs_background": "light"
     },
     "output_type": "display_data"
    }
   ],
   "source": [
    "plt.figure(figsize=(10,5))\n",
    "plt.title(\"Stars Solar Mass\")\n",
    "plt.bar(name[0:9],mass[0:9])"
   ]
  },
  {
   "cell_type": "code",
   "execution_count": 51,
   "metadata": {},
   "outputs": [
    {
     "data": {
      "text/plain": [
       "<BarContainer object of 9 artists>"
      ]
     },
     "execution_count": 51,
     "metadata": {},
     "output_type": "execute_result"
    },
    {
     "data": {
      "image/png": "[encoded data removed]",
      "text/plain": [
       "<Figure size 720x360 with 1 Axes>"
      ]
     },
     "metadata": {
      "needs_background": "light"
     },
     "output_type": "display_data"
    }
   ],
   "source": [
    "plt.figure(figsize=(10,5))\n",
    "plt.title(\"Stars Solar Radius\")\n",
    "plt.bar(name[0:9],radius[0:9])"
   ]
  },
  {
   "cell_type": "code",
   "execution_count": 52,
   "metadata": {},
   "outputs": [
    {
     "data": {
      "text/plain": [
       "<BarContainer object of 9 artists>"
      ]
     },
     "execution_count": 52,
     "metadata": {},
     "output_type": "execute_result"
    },
    {
     "data": {
      "image/png": "[encoded data removed]",
      "text/plain": [
       "<Figure size 720x360 with 1 Axes>"
      ]
     },
     "metadata": {
      "needs_background": "light"
     },
     "output_type": "display_data"
    }
   ],
   "source": [
    "plt.figure(figsize=(10,5))\n",
    "plt.title(\"Stars Gravity(m/s^2)\")\n",
    "plt.bar(name[0:9],gravity[0:9])"
   ]
  },
  {
   "cell_type": "code",
   "execution_count": 53,
   "metadata": {},
   "outputs": [
    {
     "data": {
      "text/plain": [
       "<BarContainer object of 9 artists>"
      ]
     },
     "execution_count": 53,
     "metadata": {},
     "output_type": "execute_result"
    },
    {
     "data": {
      "image/png": "[encoded data removed]",
      "text/plain": [
       "<Figure size 720x360 with 1 Axes>"
      ]
     },
     "metadata": {
      "needs_background": "light"
     },
     "output_type": "display_data"
    }
   ],
   "source": [
    "plt.figure(figsize=(10,5))\n",
    "plt.title(\"Stars Gravity(m/s^2)\")\n",
    "plt.bar(name[0:9],dist[0:9])"
   ]
  }
 ],
 "metadata": {
  "interpreter": {
   "hash": "1784f50464a290d377b97189f8cc5b1fac9ec055258da1c83eeefa641d3a79e6"
  },
  "kernelspec": {
   "display_name": "Python 3.8.6 64-bit",
   "language": "python",
   "name": "python3"
  },
  "language_info": {
   "codemirror_mode": {
    "name": "ipython",
    "version": 3
   },
   "file_extension": ".py",
   "mimetype": "text/x-python",
   "name": "python",
   "nbconvert_exporter": "python",
   "pygments_lexer": "ipython3",
   "version": "3.8.6"
  },
  "orig_nbformat": 4
 },
 "nbformat": 4,
 "nbformat_minor": 2
}
